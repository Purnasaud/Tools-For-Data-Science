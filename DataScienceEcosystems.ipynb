{
 "cells": [
  {
   "cell_type": "markdown",
   "id": "a8495f5b",
   "metadata": {},
   "source": [
    "# Data Science Tools and Ecosystem\n",
    "**Objective**:\n",
    "* List of Popular Language for Data Science\n",
    "* Introducing Commonly Used Data Science Open Library\n",
    "* Data Science tools\n",
    "* Evaluating Mathematical Expression Using Simple Arithmatic Operations\n",
    "* Converting Minutes to an Hour\n",
    "In this notebook, Data Science Tools and Ecosystem are summarized."
   ]
  },
  {
   "cell_type": "markdown",
   "id": "8cf24c53",
   "metadata": {},
   "source": [
    "Some of the popular languages that Data Scientists use are:\n",
    "1. Python\n",
    "1. R\n",
    "1. SQL\n",
    "##### Some of the commonly used libraries used by Data Scientists include:\n",
    "1. Matplotlib\n",
    "1. Pandas\n",
    "1. NumPy\n",
    "# Data Science Tools\n",
    "|Data Science Tools|\n",
    "|-|\n",
    "|RStudio|\n",
    "|Visual Studio Code|\n",
    "|Jupyter Notebook|"
   ]
  },
  {
   "cell_type": "markdown",
   "id": "55e9fe47",
   "metadata": {},
   "source": [
    "### Below are a few examples of evaluating arithmetic expressions in Python"
   ]
  },
  {
   "cell_type": "code",
   "execution_count": 2,
   "id": "429e9b42",
   "metadata": {},
   "outputs": [
    {
     "name": "stdout",
     "output_type": "stream",
     "text": [
      "17\n"
     ]
    }
   ],
   "source": [
    "# This a simple arithmetic expression to mutiply then add integers\n",
    "output = (3*4)+5\n",
    "print(output)\n",
    "\n"
   ]
  },
  {
   "cell_type": "code",
   "execution_count": 3,
   "id": "14531924",
   "metadata": {},
   "outputs": [
    {
     "name": "stdout",
     "output_type": "stream",
     "text": [
      "200 minutes is equal to 3.3333333333333335 hours\n"
     ]
    }
   ],
   "source": [
    "# This is a code which converts Minute in to hour\n",
    "minutes = 200\n",
    "hours = minutes / 60\n",
    "print(\"200 minutes is equal to\", hours, \"hours\")\n"
   ]
  },
  {
   "cell_type": "markdown",
   "id": "0d852b64",
   "metadata": {},
   "source": [
    "## Author:\n",
    "Purna Bahadur Saud"
   ]
  },
  {
   "cell_type": "markdown",
   "id": "b10c9d2b",
   "metadata": {},
   "source": []
  }
 ],
 "metadata": {
  "kernelspec": {
   "display_name": "Python 3 (ipykernel)",
   "language": "python",
   "name": "python3"
  },
  "language_info": {
   "codemirror_mode": {
    "name": "ipython",
    "version": 3
   },
   "file_extension": ".py",
   "mimetype": "text/x-python",
   "name": "python",
   "nbconvert_exporter": "python",
   "pygments_lexer": "ipython3",
   "version": "3.9.12"
  }
 },
 "nbformat": 4,
 "nbformat_minor": 5
}
